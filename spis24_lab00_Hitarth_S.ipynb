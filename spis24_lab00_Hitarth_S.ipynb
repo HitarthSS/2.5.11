{
  "nbformat": 4,
  "nbformat_minor": 0,
  "metadata": {
    "colab": {
      "provenance": [],
      "authorship_tag": "ABX9TyNUPvF0F2DD0YJr1ERpuBm6",
      "include_colab_link": true
    },
    "kernelspec": {
      "name": "python3",
      "display_name": "Python 3"
    },
    "language_info": {
      "name": "python"
    }
  },
  "cells": [
    {
      "cell_type": "markdown",
      "metadata": {
        "id": "view-in-github",
        "colab_type": "text"
      },
      "source": [
        "<a href=\"https://colab.research.google.com/github/HitarthSS/2.5.11/blob/main/spis24_lab00_Hitarth_S.ipynb\" target=\"_parent\"><img src=\"https://colab.research.google.com/assets/colab-badge.svg\" alt=\"Open In Colab\"/></a>"
      ]
    },
    {
      "cell_type": "code",
      "execution_count": null,
      "metadata": {
        "colab": {
          "base_uri": "https://localhost:8080/"
        },
        "id": "HjZAS5w2krmE",
        "outputId": "7829fc4f-9a98-4166-deb4-6b83c8cf3db9"
      },
      "outputs": [
        {
          "output_type": "stream",
          "name": "stdout",
          "text": [
            "Hello, you!\n"
          ]
        }
      ],
      "source": [
        "# Hitarth Shukla for SPIS 2024\n",
        "\n",
        "print('Hello, World!')\n",
        "\n",
        "print('Hello, you!')"
      ]
    }
  ]
}